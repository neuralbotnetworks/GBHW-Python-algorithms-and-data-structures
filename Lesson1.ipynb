{
 "cells": [
  {
   "cell_type": "markdown",
   "source": [
    "# Урок 1. \n",
    "\n",
    "## Введение в алгоритмизацию и реализация простых алгоритмов на Python"
   ],
   "metadata": {}
  },
  {
   "cell_type": "markdown",
   "source": [
    "1. Найти сумму и произведение цифр трехзначного числа, которое вводит пользователь."
   ],
   "metadata": {}
  },
  {
   "cell_type": "code",
   "execution_count": null,
   "source": [
    "x = input('Введите трёхзначное число:\\n')\n",
    "x1, x2, x3 = int(x[0]), int(x[1]), int(x[2])\n",
    "x_sum = x1 + x2 + x3\n",
    "x_prod = x1 * x2 * x3\n",
    "print(f'Сумма: {x_sum}')\n",
    "print(f'Произведение: {x_prod}')"
   ],
   "outputs": [],
   "metadata": {}
  },
  {
   "cell_type": "markdown",
   "source": [
    "2. Выполнить логические \n",
    "побитовые операции «И», «ИЛИ» и др. \n",
    "над числами 5 и 6. \n",
    "Выполнить над числом 5 \n",
    "побитовый сдвиг вправо и влево на два знака.\n",
    "Объяснить полученный результат."
   ],
   "metadata": {}
  },
  {
   "cell_type": "code",
   "execution_count": null,
   "source": [
    "x = 5\n",
    "y = 6"
   ],
   "outputs": [],
   "metadata": {}
  },
  {
   "cell_type": "markdown",
   "source": [
    "3. По введенным пользователем координатам двух точек вывести уравнение прямой вида y=kx+b, проходящей через эти точки."
   ],
   "metadata": {}
  },
  {
   "cell_type": "code",
   "execution_count": null,
   "source": [],
   "outputs": [],
   "metadata": {}
  },
  {
   "cell_type": "markdown",
   "source": [
    "4. Написать программу, которая генерирует в указанных пользователем границах:\n",
    "случайное целое число;\n",
    "случайное вещественное число;\n",
    "случайный символ.\n",
    "Для каждого из трех случаев пользователь задает свои границы диапазона. Например, если надо получить случайный символ от 'a' до 'f', то вводятся эти символы. Программа должна вывести на экран любой символ алфавита от 'a' до 'f' включительно."
   ],
   "metadata": {}
  },
  {
   "cell_type": "code",
   "execution_count": null,
   "source": [],
   "outputs": [],
   "metadata": {}
  },
  {
   "cell_type": "markdown",
   "source": [
    "5. Пользователь вводит две буквы. Определить, на каких местах алфавита они стоят и сколько между ними находится букв."
   ],
   "metadata": {}
  },
  {
   "cell_type": "code",
   "execution_count": null,
   "source": [],
   "outputs": [],
   "metadata": {}
  },
  {
   "cell_type": "markdown",
   "source": [
    "6. Пользователь вводит номер буквы в алфавите. Определить, какая это буква."
   ],
   "metadata": {}
  },
  {
   "cell_type": "code",
   "execution_count": null,
   "source": [
    "int(input('Введите номер буквы в алфавите:'))"
   ],
   "outputs": [],
   "metadata": {}
  },
  {
   "cell_type": "markdown",
   "source": [
    "7. По длинам трех отрезков, введенных пользователем, определить возможность существования треугольника, составленного из этих отрезков. Если такой треугольник существует, то определить, является ли он разносторонним, равнобедренным или равносторонним."
   ],
   "metadata": {}
  },
  {
   "cell_type": "code",
   "execution_count": null,
   "source": [],
   "outputs": [],
   "metadata": {}
  },
  {
   "cell_type": "markdown",
   "source": [
    "8. Определить, является ли год, который ввел пользователем, високосным или невисокосным."
   ],
   "metadata": {}
  },
  {
   "cell_type": "code",
   "execution_count": 5,
   "source": [
    "year = int(input('dd'))\n",
    "print(year)"
   ],
   "outputs": [
    {
     "output_type": "stream",
     "name": "stdout",
     "text": [
      "151\n"
     ]
    }
   ],
   "metadata": {}
  },
  {
   "cell_type": "markdown",
   "source": [
    "9. Вводятся три разных числа. Найти, какое из них является средним (больше одного, но меньше другого)."
   ],
   "metadata": {}
  },
  {
   "cell_type": "code",
   "execution_count": null,
   "source": [
    "a = int(input('Введите первое число:'))\n",
    "b = int(input('Введите второе число:'))\n",
    "c = int(input('Введите третье число:'))"
   ],
   "outputs": [],
   "metadata": {}
  }
 ],
 "metadata": {
  "orig_nbformat": 4,
  "language_info": {
   "name": "python",
   "version": "3.8.11",
   "mimetype": "text/x-python",
   "codemirror_mode": {
    "name": "ipython",
    "version": 3
   },
   "pygments_lexer": "ipython3",
   "nbconvert_exporter": "python",
   "file_extension": ".py"
  },
  "kernelspec": {
   "name": "python3",
   "display_name": "Python 3.8.11 64-bit ('base': conda)"
  },
  "interpreter": {
   "hash": "41be14fcd6fa0bffc0ef2d41ff4ab8702717c85a21ffbca10ebf1e60ba881637"
  }
 },
 "nbformat": 4,
 "nbformat_minor": 2
}